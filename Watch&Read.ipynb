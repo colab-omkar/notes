{
  "nbformat": 4,
  "nbformat_minor": 0,
  "metadata": {
    "colab": {
      "provenance": [],
      "authorship_tag": "ABX9TyPpJWaxAyWiqlS7cU7Y4/wy",
      "include_colab_link": true
    },
    "kernelspec": {
      "name": "python3",
      "display_name": "Python 3"
    },
    "language_info": {
      "name": "python"
    }
  },
  "cells": [
    {
      "cell_type": "markdown",
      "metadata": {
        "id": "view-in-github",
        "colab_type": "text"
      },
      "source": [
        "<a href=\"https://colab.research.google.com/github/colab-omkar/notes/blob/main/Watch%26Read.ipynb\" target=\"_parent\"><img src=\"https://colab.research.google.com/assets/colab-badge.svg\" alt=\"Open In Colab\"/></a>"
      ]
    },
    {
      "cell_type": "markdown",
      "source": [
        "# **Anime List**\n",
        "\n",
        "\n",
        "*   Dan Da Dan\n",
        "*   Hello\n",
        "*   List item\n",
        "\n"
      ],
      "metadata": {
        "id": "DIUiSvJUrb8H"
      }
    }
  ]
}